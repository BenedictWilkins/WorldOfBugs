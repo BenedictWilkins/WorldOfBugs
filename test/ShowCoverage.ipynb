{
 "cells": [
  {
   "cell_type": "code",
   "execution_count": null,
   "id": "fbabc581",
   "metadata": {},
   "outputs": [],
   "source": [
    "%matplotlib notebook\n",
    "import matplotlib.pyplot as plt\n",
    "from worldofbugs.dataset import dataset, load\n",
    "from worldofbugs.utils import get_unity_environments, make\n",
    "import numpy as np\n",
    "import jnu as J\n"
   ]
  },
  {
   "cell_type": "code",
   "execution_count": null,
   "id": "ec7da88f",
   "metadata": {
    "scrolled": false
   },
   "outputs": [],
   "source": [
    "DATASET = 1\n",
    "dataset = [ep.info[...] for ep in load(\"World-v1\", DATASET)]\n",
    "\n",
    "\n",
    "i = 4\n",
    "fig = plt.figure(figsize=(5,5))\n",
    "plt.tight_layout()\n",
    "plt.axis('equal')\n",
    "x, y = dataset[i][:,1], dataset[i][:,3]\n",
    "plt.scatter(x, y, marker=\".\", c=\"black\", alpha=0.01)\n",
    "plt.axis('off')\n",
    "total_frames = dataset[i].shape[0]\n",
    "print(\"TOTAL FRAMES: \", total_frames)\n",
    "plt.savefig(f\"./coverage-{total_frames}.png\", bbox_inches=\"tight\", pad_inches = 0)\n",
    "\n",
    "fig = plt.figure(figsize=(5,5))\n",
    "plt.axis('equal')\n",
    "plt.tight_layout()\n",
    "total_frames = 0\n",
    "for i, ep in enumerate(dataset):\n",
    "    total_frames += ep.shape[0]\n",
    "    x, y = ep[:,1], ep[:,3]\n",
    "    plt.scatter(x, y, marker=\".\", c=\"black\", alpha=0.01)\n",
    "\n",
    "plt.axis('off')\n",
    "print(\"TOTAL EPISODES:\", i + 1)\n",
    "print(\"TOTAL FRAMES: \", total_frames)\n",
    "plt.savefig(f\"./coverage-{total_frames}.png\", bbox_inches=\"tight\", pad_inches = 0)"
   ]
  },
  {
   "cell_type": "code",
   "execution_count": null,
   "id": "3e421c17",
   "metadata": {
    "scrolled": false
   },
   "outputs": [],
   "source": [
    "DATASET = 1\n",
    "\n",
    "total_frames = 0\n",
    "for i, ep in enumerate(load(\"World-v1\", DATASET)):\n",
    "    total_frames += ep.info.shape[0]\n",
    "    print(ep.__dict__.keys())\n",
    "    J.images(ep.observation[...], on_interact = ep.action[...], scale=3)\n",
    "\n",
    "print(\"TOTAL EPISODES:\", i + 1)\n",
    "print(\"TOTAL FRAMES: \", total_frames)\n",
    "\n"
   ]
  },
  {
   "cell_type": "code",
   "execution_count": null,
   "id": "50aea0ff",
   "metadata": {},
   "outputs": [],
   "source": []
  },
  {
   "cell_type": "code",
   "execution_count": null,
   "id": "7d7ca2ec",
   "metadata": {
    "scrolled": false
   },
   "outputs": [],
   "source": [
    "%matplotlib notebook\n",
    "import matplotlib.pyplot as plt\n",
    "from worldofbugs.dataset import dataset, load\n",
    "from worldofbugs.utils import get_unity_environments, make\n",
    "import numpy as np\n",
    "import jnu as J\n",
    "\n",
    "DATASET = 0\n",
    "\n",
    "#fig = plt.figure(figsize=(5,5))\n",
    "#plt.axis('equal')\n",
    "\n",
    "BUG_LABELS = [\"GeometryClipping\", \"BoundaryHole\", \n",
    "\"TextureMissing\", \"ZFighting\", \n",
    "\"ZClipping\", \"CameraClipping\", \n",
    "\"BlackScreen\", \"TextureCorrupt\", \n",
    "\"ScreenTear\", \"GeometryCorruption\", \n",
    "]\n",
    "\n",
    "\n",
    "total_frames = 0\n",
    "for i, (label, ep) in enumerate(zip(BUG_LABELS, load(\"World-v1\", DATASET))):\n",
    "    print(label)\n",
    "    total_frames += ep.info.shape[0]\n",
    "    #print(ep.__dict__.keys())\n",
    "    space = list(ep.observation.shape)\n",
    "    space[-2] = 4\n",
    "    space = np.ones(space)\n",
    "    print(ep.observation.shape, space.shape)\n",
    "    #img = np.concatenate([ep.observation[...], space, ep.bugmask[...]], axis=2)\n",
    "    try: \n",
    "        img = np.concatenate([ep.observation[...], ep.bugmask[...]], axis=3)\n",
    "    except:\n",
    "        img = ep.observation[...]\n",
    "    J.images(img, on_interact = ep.action[...], scale=3)\n",
    "    #print(img.shape, img.dtype)\n",
    "    x, y = ep.info[:,1], ep.info[:,3]\n",
    "    #plt.scatter(x, y, marker=\".\", c=\"black\", alpha=0.01)\n",
    "\n",
    "#plt.axis('off')\n",
    "print(\"TOTAL EPISODES:\", i + 1)\n",
    "print(\"TOTAL FRAMES: \", total_frames)\n",
    "\n",
    "\n",
    "    "
   ]
  },
  {
   "cell_type": "code",
   "execution_count": null,
   "id": "d716dde3",
   "metadata": {},
   "outputs": [],
   "source": [
    "plt.savefig(\"./coverage-60-episode.png\")"
   ]
  },
  {
   "cell_type": "code",
   "execution_count": null,
   "id": "3dd8fd22",
   "metadata": {},
   "outputs": [],
   "source": [
    "DATASET = 1\n",
    "\n",
    "#fig = plt.figure(figsize=(5,5))\n",
    "#plt.axis('equal')\n",
    "\n",
    "BUG_LABELS = [\"GeometryClipping\", \"BoundaryHole\", \n",
    "\"TextureMissing\", \"ZFighting\", \n",
    "\"ZClipping\", \"CameraClipping\", \n",
    "\"BlackScreen\", \"TextureCorrupt\", \n",
    "\"ScreenTear\", \"GeometryCorruption\", \n",
    "]\n",
    "\n",
    "data = dict()\n",
    "for label, ep in zip(BUG_LABELS, load(\"World-v1\", DATASET)):\n",
    "    imgs =  np.concatenate([ep.observation[...], ep.bugmask[...]], axis=3)\n",
    "    imgs = (imgs * 255).astype(np.uint8)\n",
    "    imgs = imgs.transpose(0, 2, 3, 1)[...,::-1]\n",
    "    data[label] = imgs"
   ]
  },
  {
   "cell_type": "code",
   "execution_count": null,
   "id": "9c10e605",
   "metadata": {},
   "outputs": [],
   "source": [
    "import krate\n",
    "label = \"BoundaryHole\"\n",
    "\n",
    "x = data[label][250:350]\n",
    "x = J.jnu_image.resize(x, (x.shape[0], x.shape[1] * 2, x.shape[2] * 2, x.shape[3])).astype(np.uint8)\n",
    "krate.fileutils.save(f\"./{label}.mp4\", x, fps=60)\n"
   ]
  },
  {
   "cell_type": "code",
   "execution_count": null,
   "id": "29133444",
   "metadata": {},
   "outputs": [],
   "source": []
  }
 ],
 "metadata": {
  "kernelspec": {
   "display_name": "PhD",
   "language": "python",
   "name": "phd"
  },
  "language_info": {
   "codemirror_mode": {
    "name": "ipython",
    "version": 3
   },
   "file_extension": ".py",
   "mimetype": "text/x-python",
   "name": "python",
   "nbconvert_exporter": "python",
   "pygments_lexer": "ipython3",
   "version": "3.8.2"
  }
 },
 "nbformat": 4,
 "nbformat_minor": 5
}
