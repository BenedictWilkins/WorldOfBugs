{
 "cells": [
  {
   "cell_type": "code",
   "execution_count": 1,
   "id": "63a638a1",
   "metadata": {},
   "outputs": [
    {
     "name": "stdout",
     "output_type": "stream",
     "text": [
      "[('TextureMissing', '/home/ben/Documents/repos/WorldOfBugs/worldofbugs/builds/World-v1/dataset/test/TextureMissing.hdf5'), ('ZFighting', '/home/ben/Documents/repos/WorldOfBugs/worldofbugs/builds/World-v1/dataset/test/ZFighting.hdf5'), ('ZClipping', '/home/ben/Documents/repos/WorldOfBugs/worldofbugs/builds/World-v1/dataset/test/ZClipping.hdf5'), ('CameraClipping', '/home/ben/Documents/repos/WorldOfBugs/worldofbugs/builds/World-v1/dataset/test/CameraClipping.hdf5'), ('BlackScreen', '/home/ben/Documents/repos/WorldOfBugs/worldofbugs/builds/World-v1/dataset/test/BlackScreen.hdf5'), ('TextureCorruption', '/home/ben/Documents/repos/WorldOfBugs/worldofbugs/builds/World-v1/dataset/test/TextureCorruption.hdf5'), ('ScreenTear', '/home/ben/Documents/repos/WorldOfBugs/worldofbugs/builds/World-v1/dataset/test/ScreenTear.hdf5'), ('GeometryCorruption', '/home/ben/Documents/repos/WorldOfBugs/worldofbugs/builds/World-v1/dataset/test/GeometryCorruption.hdf5'), ('GeometryClipping', '/home/ben/Documents/repos/WorldOfBugs/worldofbugs/builds/World-v1/dataset/test/GeometryClipping.hdf5'), ('BoundaryHole', '/home/ben/Documents/repos/WorldOfBugs/worldofbugs/builds/World-v1/dataset/test/BoundaryHole.hdf5')]\n"
     ]
    }
   ],
   "source": [
    "import jnu as J\n",
    "import numpy as np\n",
    "# load a dataset for testing\n",
    "import os\n",
    "import glob\n",
    "import h5py\n",
    "from tqdm.auto import tqdm\n",
    "from pprint import pprint\n",
    "\n",
    "def load(file, keys):\n",
    "    with h5py.File(file, 'r') as f:\n",
    "        for g in tqdm(f):\n",
    "            yield tuple([f[g][k] for k in keys])\n",
    "BUG_LABELS = [\"TextureMissing\", \"ZFighting\", \"ZClipping\", \"CameraClipping\", \"BlackScreen\", \"TextureCorruption\", \"ScreenTear\", \"GeometryCorruption\", \"GeometryClipping\", \"BoundaryHole\"]\n",
    "WORLDOFBUGS_PATH = os.path.abspath(\"../worldofbugs/builds/World-v1/dataset/\")\n",
    "FILE_TEMPLATE = \"dataset-{0}.hdf5\"\n",
    "FILES = [(bug, os.path.join(WORLDOFBUGS_PATH, FILE_TEMPLATE.format(i))) for i, bug in enumerate(BUG_LABELS, 1)]\n",
    "\n",
    "\n",
    "VFILES = [(bug, os.path.join(WORLDOFBUGS_PATH, \"test\", bug + \".hdf5\")) for i, bug in enumerate(BUG_LABELS, 1)]\n",
    "print(VFILES)\n"
   ]
  },
  {
   "cell_type": "code",
   "execution_count": 4,
   "id": "a1ad2b89",
   "metadata": {},
   "outputs": [
    {
     "name": "stdout",
     "output_type": "stream",
     "text": [
      "ep-0000\n"
     ]
    },
    {
     "data": {
      "application/vnd.jupyter.widget-view+json": {
       "model_id": "244806f0da2f4d4ebccc6d39acd1d955",
       "version_major": 2,
       "version_minor": 0
      },
      "text/plain": [
       "interactive(children=(IntSlider(value=0, description='x', layout=Layout(width='99%'), max=4959), Output()), _d…"
      ]
     },
     "metadata": {},
     "output_type": "display_data"
    },
    {
     "data": {
      "application/vnd.jupyter.widget-view+json": {
       "model_id": "e1cfe054d61747c5b921cd6663e04d79",
       "version_major": 2,
       "version_minor": 0
      },
      "text/plain": [
       "HBox(children=(Canvas(height=252, width=252),), layout=Layout(align_items='center', display='flex', flex_flow=…"
      ]
     },
     "metadata": {},
     "output_type": "display_data"
    }
   ],
   "source": [
    "import glob\n",
    "import os\n",
    "import h5py\n",
    "import jnu as J\n",
    "\n",
    "PATH = '/home/ben/Documents/repos/WorldOfBugs/worldofbugs/builds/World-v1/dataset/'\n",
    "\n",
    "with h5py.File(PATH + \"NORMAL-50k.hdf5\") as f:\n",
    "    for k in f:\n",
    "        print(k)\n",
    "        J.images(f[k]['observation'][...], scale=3)\n",
    "        break\n",
    "        \n",
    "    \n",
    "\n",
    "\n"
   ]
  },
  {
   "cell_type": "code",
   "execution_count": null,
   "id": "b08104ef",
   "metadata": {
    "scrolled": false
   },
   "outputs": [],
   "source": [
    "import utils\n",
    "size = 0\n",
    "FILE = '/home/ben/Documents/repos/WorldOfBugs/worldofbugs/builds/World-v1/dataset/test/GeometryClipping.hdf5'\n",
    "for i, (obs, label) in enumerate(load(file=FILE, keys=[\"observation\", \"bugmask\"])):\n",
    "    obs, label = obs[...], label[...]\n",
    "    label = (label[...].sum(1, keepdims=True) > 0.)\n",
    "    size += obs.shape[0]\n",
    "    print(\"---------\")\n",
    "    print(i + 1, size)\n",
    "    J.images(np.concatenate([obs, label.repeat(3, axis=1)], axis=3), scale=3)\n",
    "\n",
    "    "
   ]
  },
  {
   "cell_type": "code",
   "execution_count": null,
   "id": "106da708",
   "metadata": {},
   "outputs": [],
   "source": [
    "CUT = 40\n",
    "FILE = os.path.join(WORLDOFBUGS_PATH,\"dataset-0.hdf5\")\n",
    "with h5py.File(FILE, 'a') as f:\n",
    "    for k,v in tqdm(f.items()):\n",
    "        for a,b in v.items():\n",
    "            b = b[CUT:]\n",
    "            del v[a]\n",
    "            v.create_dataset(a, data=b)"
   ]
  },
  {
   "cell_type": "code",
   "execution_count": null,
   "id": "30c05dc6",
   "metadata": {},
   "outputs": [],
   "source": []
  },
  {
   "cell_type": "code",
   "execution_count": null,
   "id": "597e2aa4",
   "metadata": {
    "scrolled": false
   },
   "outputs": [],
   "source": [
    "FILE = 4\n",
    "print(VFILES[FILE][0])\n",
    "for i, (obs, label) in enumerate(load(file=VFILES[FILE][1], keys=[\"observation\", \"bugmask\"])):\n",
    "    obs, label = obs[...], label[...]\n",
    "    label = (label[...].sum(1, keepdims=True) > 0.)\n",
    "    J.images(np.concatenate([obs, label.repeat(3, axis=1)], axis=3), scale=3)"
   ]
  },
  {
   "cell_type": "code",
   "execution_count": null,
   "id": "fb7db505",
   "metadata": {
    "scrolled": false
   },
   "outputs": [],
   "source": [
    "for i, (obs, label) in enumerate(load(os.path.join(WORLDOFBUGS_PATH, \"dataset-10.hdf5\"), keys=[\"observation\", \"bugmask\"])):\n",
    "    obs, label = obs[...], label[...]\n",
    "    #label = (label[...].sum(1, keepdims=True) > 0.)\n",
    "    J.images(np.concatenate([obs, label], axis=3), scale=3)\n",
    "\n",
    "    \n"
   ]
  },
  {
   "cell_type": "code",
   "execution_count": null,
   "id": "8c6ede61",
   "metadata": {},
   "outputs": [],
   "source": [
    "def copy_episodes(fs, fd, episodes):\n",
    "    print(fs.keys(), fd.keys())\n",
    "    print(episodes)\n",
    "    k = len(fd.keys())\n",
    "    for i, ep in enumerate(episodes):\n",
    "        nep = f\"ep-{str(i + k ).zfill(4)}\"\n",
    "        fs.copy(fs[ep], fd, nep)\n",
    "\n",
    "e = 0\n",
    "fs = h5py.File(os.path.join(WORLDOFBUGS_PATH, \"dataset-{0}.hdf5\".format(e)), \"r\")\n",
    "fd = h5py.File(os.path.join(WORLDOFBUGS_PATH, \"dataset-COPY.hdf5\"), \"a\")\n",
    "\n",
    "eps = [1,2,3,4,5,6]\n",
    "copy_episodes(fs, fd, [f\"ep-000{e - 1}\" for e in eps])\n",
    "\n",
    "fs.close()\n",
    "fd.close()"
   ]
  },
  {
   "cell_type": "code",
   "execution_count": null,
   "id": "bdee3a54",
   "metadata": {
    "scrolled": false
   },
   "outputs": [],
   "source": [
    "for i, (obs, label) in enumerate(load(file=os.path.join(WORLDOFBUGS_PATH, \"dataset-COPY.hdf5\"), keys=[\"observation\", \"bugmask\"])):\n",
    "    obs, label = obs[...], label[...]\n",
    "    #label = (label[...].sum(1, keepdims=True) > 0.)\n",
    "    J.images(np.concatenate([obs, label], axis=3), scale=3)\n"
   ]
  },
  {
   "cell_type": "code",
   "execution_count": null,
   "id": "951f312e",
   "metadata": {
    "scrolled": false
   },
   "outputs": [],
   "source": [
    "FILE = 2\n",
    "print(FILES[FILE][0])\n",
    "for i, (obs, label) in enumerate(load(file=FILES[FILE][1], keys=[\"observation\", \"bugmask\"])):\n",
    "    obs, label = obs[...], label[...]\n",
    "    #label = (label[...].sum(1, keepdims=True) > 0.)\n",
    "    J.images(np.concatenate([obs, label], axis=3), scale=3)\n",
    "    "
   ]
  },
  {
   "cell_type": "code",
   "execution_count": null,
   "id": "a00d5938",
   "metadata": {},
   "outputs": [],
   "source": [
    "prin"
   ]
  },
  {
   "cell_type": "code",
   "execution_count": null,
   "id": "0510fb00",
   "metadata": {
    "scrolled": false
   },
   "outputs": [],
   "source": [
    "\"\"\"\n",
    "CUT = 40\n",
    "for path in glob.glob(os.path.join(WORLDOFBUGS_PATH, \"**/*.hdf5\"), recursive=True):\n",
    "    with h5py.File(path, 'a') as f:\n",
    "        for k,v in tqdm(f.items()):\n",
    "            for a,b in v.items():\n",
    "                b = b[CUT:]\n",
    "                del v[a]\n",
    "                v.create_dataset(a, data=b)\n",
    "\"\"\""
   ]
  }
 ],
 "metadata": {
  "kernelspec": {
   "display_name": "PhD",
   "language": "python",
   "name": "phd"
  },
  "language_info": {
   "codemirror_mode": {
    "name": "ipython",
    "version": 3
   },
   "file_extension": ".py",
   "mimetype": "text/x-python",
   "name": "python",
   "nbconvert_exporter": "python",
   "pygments_lexer": "ipython3",
   "version": "3.7.11"
  }
 },
 "nbformat": 4,
 "nbformat_minor": 5
}
