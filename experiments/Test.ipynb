{
 "cells": [
  {
   "cell_type": "code",
   "execution_count": 10,
   "id": "27640280",
   "metadata": {},
   "outputs": [
    {
     "name": "stdout",
     "output_type": "stream",
     "text": [
      "action (5000,)\n",
      "done (5000,)\n",
      "info (5000, 7)\n",
      "observation (5000, 3, 84, 84)\n",
      "reward (5000,)\n"
     ]
    },
    {
     "data": {
      "text/plain": [
       "'\\ndef load(file, keys):\\n    with  as f:\\n        for g in tqdm(f):\\n            yield tuple([f[g][k][...] for k in keys])\\n'"
      ]
     },
     "execution_count": 10,
     "metadata": {},
     "output_type": "execute_result"
    }
   ],
   "source": [
    "import os\n",
    "import h5py\n",
    "import torch\n",
    "import numpy as np\n",
    "from tqdm.auto import tqdm\n",
    "\n",
    "import jnu as J\n",
    "\n",
    "WORLDOFBUGS_PATH = os.path.abspath(\"..\")\n",
    "DEFAULT_TRAIN_FILE_LARGE = \"worldofbugs/builds/World-v1/dataset/NORMAL-300k.hdf5\"\n",
    "FILE = os.path.join(WORLDOFBUGS_PATH, DEFAULT_TRAIN_FILE_LARGE)\n",
    "\n",
    "from torch.utils.data import IterableDataset\n",
    "\n",
    "class EpisodeDataset(IterableDataset):\n",
    "    \n",
    "    def __init__(self, file, shuffle=True, m=1):\n",
    "        self.file = file\n",
    "        self.episodes = [self.file[ep] for ep in self.file.keys()]\n",
    "        \n",
    "        ep = self.episodes[0]\n",
    "        for k, v in ep.items():\n",
    "            print(k, v.shape)\n",
    "        \n",
    "        \n",
    "        \n",
    "    def __iter__(self):\n",
    "        pass \n",
    "    \n",
    "    def __getitem__(self, i):\n",
    "        pass\n",
    "\n",
    "\n",
    "dataset = EpisodeDataset(h5py.File(FILE, 'r'))\n",
    "        \n",
    "\n",
    "\"\"\"\n",
    "def load(file, keys):\n",
    "    with  as f:\n",
    "        for g in tqdm(f):\n",
    "            yield tuple([f[g][k][...] for k in keys])\n",
    "\"\"\"        \n",
    "\n"
   ]
  },
  {
   "cell_type": "code",
   "execution_count": null,
   "id": "5146043d",
   "metadata": {},
   "outputs": [],
   "source": []
  }
 ],
 "metadata": {
  "kernelspec": {
   "display_name": "PhD",
   "language": "python",
   "name": "phd"
  },
  "language_info": {
   "codemirror_mode": {
    "name": "ipython",
    "version": 3
   },
   "file_extension": ".py",
   "mimetype": "text/x-python",
   "name": "python",
   "nbconvert_exporter": "python",
   "pygments_lexer": "ipython3",
   "version": "3.7.11"
  }
 },
 "nbformat": 4,
 "nbformat_minor": 5
}
