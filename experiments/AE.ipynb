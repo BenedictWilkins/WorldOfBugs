{
 "cells": [
  {
   "cell_type": "code",
   "execution_count": 1,
   "id": "7f4005f5",
   "metadata": {
    "scrolled": false
   },
   "outputs": [
    {
     "ename": "ImportError",
     "evalue": "cannot import name 'load_train' from 'utils' (/home/ben/Documents/repos/WorldOfBugs/experiments/utils.py)",
     "output_type": "error",
     "traceback": [
      "\u001b[0;31m---------------------------------------------------------------------------\u001b[0m",
      "\u001b[0;31mImportError\u001b[0m                               Traceback (most recent call last)",
      "\u001b[0;32m/tmp/ipykernel_3652/2480634159.py\u001b[0m in \u001b[0;36m<module>\u001b[0;34m\u001b[0m\n\u001b[1;32m     15\u001b[0m \u001b[0;34m\u001b[0m\u001b[0m\n\u001b[1;32m     16\u001b[0m \u001b[0;32mimport\u001b[0m \u001b[0mutils\u001b[0m\u001b[0;34m\u001b[0m\u001b[0;34m\u001b[0m\u001b[0m\n\u001b[0;32m---> 17\u001b[0;31m \u001b[0;32mfrom\u001b[0m \u001b[0mutils\u001b[0m \u001b[0;32mimport\u001b[0m \u001b[0mload_train\u001b[0m\u001b[0;34m,\u001b[0m \u001b[0mAE\u001b[0m\u001b[0;34m,\u001b[0m \u001b[0mResBlock2D\u001b[0m\u001b[0;34m,\u001b[0m \u001b[0mView\u001b[0m\u001b[0;34m,\u001b[0m \u001b[0mFlatten\u001b[0m\u001b[0;34m,\u001b[0m \u001b[0mas_shape\u001b[0m\u001b[0;34m\u001b[0m\u001b[0;34m\u001b[0m\u001b[0m\n\u001b[0m\u001b[1;32m     18\u001b[0m \u001b[0;32mfrom\u001b[0m \u001b[0mSSIM\u001b[0m \u001b[0;32mimport\u001b[0m \u001b[0mSSIM\u001b[0m \u001b[0;31m# structural similarity loss...\u001b[0m\u001b[0;34m\u001b[0m\u001b[0;34m\u001b[0m\u001b[0m\n\u001b[1;32m     19\u001b[0m \u001b[0;34m\u001b[0m\u001b[0m\n",
      "\u001b[0;31mImportError\u001b[0m: cannot import name 'load_train' from 'utils' (/home/ben/Documents/repos/WorldOfBugs/experiments/utils.py)"
     ]
    }
   ],
   "source": [
    "%matplotlib notebook\n",
    "import notebook\n",
    "import wandb\n",
    "\n",
    "import torchsummary\n",
    "import torch\n",
    "import torch.nn as nn\n",
    "import torch.nn.functional as F\n",
    "from torch.utils.data import TensorDataset, ConcatDataset, DataLoader\n",
    "from types import SimpleNamespace\n",
    "import numpy as np\n",
    "import matplotlib.pyplot as plt\n",
    "\n",
    "from tqdm.auto import tqdm\n",
    "\n",
    "import utils\n",
    "from utils import load_train, AE, ResBlock2D, View, Flatten, as_shape\n",
    "from SSIM import SSIM # structural similarity loss...\n",
    "\n",
    "import jnu as J\n",
    "\n",
    "config = dict(\n",
    "    device = \"cuda:0\",\n",
    "    state_shape = (3,84,84),\n",
    "    latent_shape = (256,),\n",
    "    batch_size = 256,\n",
    "    learning_rate = 0.0005,\n",
    "    epochs = 40,\n",
    "    dataset = \"/home/ubuntu/datasets/NORMAL-300k.hdf5\",\n",
    "    criterion = \"BCE\"\n",
    ")\n",
    "wandb.init(project=\"world-of-bugs\", config=config)\n",
    "config = SimpleNamespace(**config)"
   ]
  },
  {
   "cell_type": "code",
   "execution_count": null,
   "id": "1dae197c",
   "metadata": {
    "scrolled": false
   },
   "outputs": [],
   "source": [
    "model = AE(config.state_shape, config.latent_shape).to(config.device)\n",
    "#model.load_state_dict(torch.load(\"./AE.pt\"))\n",
    "optim = torch.optim.Adam(model.parameters(), lr=config.learning_rate)\n",
    "criterion = nn.BCEWithLogitsLoss()\n",
    "#criterion = SSIM()s\n",
    "#print(torchsummary.summary(model, config.state_shape))\n",
    "wandb.watch(model, log='all')"
   ]
  },
  {
   "cell_type": "code",
   "execution_count": null,
   "id": "7fa1b3a0",
   "metadata": {},
   "outputs": [],
   "source": [
    "dataset = ConcatDataset([TensorDataset(torch.from_numpy(ep[0])) for ep in utils.load_train(file=config.dataset, keys=[\"observation\"])])\n",
    "loader = DataLoader(dataset, batch_size=config.batch_size, shuffle=True, drop_last=True)"
   ]
  },
  {
   "cell_type": "code",
   "execution_count": null,
   "id": "464857ee",
   "metadata": {},
   "outputs": [],
   "source": [
    "for d in dataset.datasets:\n",
    "    for t in d.tensors:\n",
    "        pass #J.images(t)"
   ]
  },
  {
   "cell_type": "code",
   "execution_count": null,
   "id": "ed7544d2",
   "metadata": {},
   "outputs": [],
   "source": [
    "loss_msg = \"Loss: {0}\"\n",
    "msg = J.HTML(loss_msg.format(0))\n",
    "display(msg)\n",
    "img = J.image(next(iter(loader))[0][0])\n",
    "m = 200\n",
    "for e in tqdm(range(config.epochs)):\n",
    "    for i, (batch_obs,) in enumerate(loader):\n",
    "        batch_obs = batch_obs.to(config.device)\n",
    "        optim.zero_grad()\n",
    "        y = model(batch_obs)\n",
    "        loss = criterion(y, batch_obs)\n",
    "        loss.backward()\n",
    "        optim.step()\n",
    "        wandb.log(dict(loss=loss.item()))\n",
    "        if not i % m:\n",
    "            recon = torch.sigmoid(y[0]).cpu().detach().numpy().transpose(1,2,0)\n",
    "            wandb.log(dict(recon=wandb.Image(recon)))\n",
    "            msg.value = loss_msg.format(loss.item())\n",
    "            img.update(recon)\n",
    "\n",
    "    if not e % 3:\n",
    "        torch.save(model.state_dict(), f\"./AE-SSIM-256-{e}-BCE.pt\")"
   ]
  },
  {
   "cell_type": "code",
   "execution_count": null,
   "id": "7f5eaf80",
   "metadata": {},
   "outputs": [],
   "source": [
    "\n",
    "with torch.no_grad():\n",
    "    loader = DataLoader(dataset, batch_size=1024, shuffle=False, drop_last=True)\n",
    "    batch_obs = next(iter(loader))[0].to(config.device)\n",
    "    imgs = torch.cat([batch_obs, torch.clip(model(batch_obs),0,1)], dim=3).cpu().numpy()\n",
    "    J.images(imgs, scale=3)\n",
    "    \n",
    "    \n",
    "        "
   ]
  },
  {
   "cell_type": "code",
   "execution_count": null,
   "id": "3afc34c0",
   "metadata": {},
   "outputs": [],
   "source": [
    "torch.save(model.state_dict(), \"./AE-SSIM-256-16.pt\")"
   ]
  },
  {
   "cell_type": "code",
   "execution_count": null,
   "id": "2de4853f",
   "metadata": {},
   "outputs": [],
   "source": []
  },
  {
   "cell_type": "code",
   "execution_count": null,
   "id": "fbec283f",
   "metadata": {},
   "outputs": [],
   "source": []
  },
  {
   "cell_type": "code",
   "execution_count": null,
   "id": "48969f6b",
   "metadata": {},
   "outputs": [],
   "source": [
    "test_data = [(torch.from_numpy(ep[0]).to(config.device), torch.from_numpy(ep[1])) for ep in utils.load_test(keys=[\"observation\", \"bugmask\"])]\n"
   ]
  },
  {
   "cell_type": "code",
   "execution_count": null,
   "id": "2a737b45",
   "metadata": {
    "scrolled": false
   },
   "outputs": [],
   "source": [
    "model = AE(config.state_shape)\n",
    "model.load_state_dict(torch.load(\"./AE.pt\"))\n",
    "criterion = nn.BCEWithLogitsLoss(reduction='none')\n",
    "with torch.no_grad():\n",
    "    n = 1024\n",
    "    model = model.cpu()\n",
    "    for obs, mask in test_data:\n",
    "        obs, mask = obs[:n], mask[:n]\n",
    "        obs = obs.cpu()\n",
    "        pred = model(obs).cpu()\n",
    "        score = criterion(pred, obs)\n",
    "        \n",
    "        score = score.reshape(score.shape[0],-1).sum(-1).cpu().numpy()\n",
    "        score = np.interp(score, (score.min(), score.max()), (0, +1))\n",
    "        \n",
    "        label = mask.reshape(mask.shape[0],-1).sum(-1).cpu().numpy()\n",
    "        label = np.interp(label, (label.min(), label.max()), (0, +1))\n",
    "        \n",
    "        \n",
    "        J.images(torch.cat([torch.sigmoid(pred), obs.cpu(), mask], dim=3))\n",
    "        fig = plt.figure(figsize=(10,5))\n",
    "        plt.plot(np.arange(score.shape[0]), score, label=\"score\")\n",
    "        plt.plot(np.arange(score.shape[0]), label, label=\"label\")\n",
    "        plt.legend()"
   ]
  },
  {
   "cell_type": "code",
   "execution_count": null,
   "id": "baa97da0",
   "metadata": {},
   "outputs": [],
   "source": [
    "with torch.no_grad():\n",
    "    for data in test_data:\n",
    "        \n",
    "    batch_obs = next(iter(loader))[0]\n",
    "    imgs = torch.cat([batch_obs, torch.sigmoid(model(batch_obs))], dim=3).cpu().numpy()\n",
    "    J.images(imgs, scale=3)"
   ]
  }
 ],
 "metadata": {
  "kernelspec": {
   "display_name": "PhD",
   "language": "python",
   "name": "phd"
  },
  "language_info": {
   "codemirror_mode": {
    "name": "ipython",
    "version": 3
   },
   "file_extension": ".py",
   "mimetype": "text/x-python",
   "name": "python",
   "nbconvert_exporter": "python",
   "pygments_lexer": "ipython3",
   "version": "3.7.11"
  }
 },
 "nbformat": 4,
 "nbformat_minor": 5
}
