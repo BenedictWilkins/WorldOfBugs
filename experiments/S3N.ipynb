{
 "cells": [
  {
   "cell_type": "code",
   "execution_count": null,
   "id": "d9290a76",
   "metadata": {
    "scrolled": false
   },
   "outputs": [],
   "source": [
    "%matplotlib notebook\n",
    "import notebook\n",
    "\n",
    "import torchsummary\n",
    "import torch\n",
    "import torch.nn as nn\n",
    "import torch.nn.functional as F\n",
    "from torch.utils.data import TensorDataset, ConcatDataset, DataLoader\n",
    "from types import SimpleNamespace\n",
    "import numpy as np\n",
    "import matplotlib.pyplot as plt\n",
    "\n",
    "from tqdm.auto import tqdm\n",
    "\n",
    "import utils\n",
    "from utils import load_train, AE, ResBlock2D, View, Flatten, as_shape, PairedTripletLoss, Encoder\n",
    "\n",
    "import jnu as J\n",
    "\n",
    "config = dict(\n",
    "    device = \"cuda:0\",\n",
    "    state_shape = (3,84,84),\n",
    "    latent_shape = (128,),\n",
    "    batch_size = 256,\n",
    "    learning_rate = 0.0005,\n",
    "    epochs = 10,\n",
    "    margin=0.2,\n",
    ")\n",
    "config = SimpleNamespace(**config)\n"
   ]
  },
  {
   "cell_type": "code",
   "execution_count": null,
   "id": "c877b311",
   "metadata": {
    "scrolled": false
   },
   "outputs": [],
   "source": [
    "model = Encoder(config.state_shape, config.latent_shape).to(config.device)\n",
    "#model.load_state_dict(torch.load(\"./AE.pt\"))\n",
    "optim = torch.optim.Adam(model.parameters(), lr=config.learning_rate)\n",
    "criterion = PairedTripletLoss(margin=config.margin)\n",
    "#print(torchsummary.summary(model, config.state_shape))"
   ]
  },
  {
   "cell_type": "code",
   "execution_count": null,
   "id": "16a566ac",
   "metadata": {},
   "outputs": [],
   "source": [
    "dataset = [torch.from_numpy(ep[0]).to(config.device) for ep in utils.load_train(keys=[\"observation\"])]\n",
    "dataset = [(ep[:-1], ep[1:]) for ep in dataset]\n",
    "dataset = ConcatDataset([TensorDataset(*ep) for ep in dataset])\n",
    "loader = DataLoader(dataset, batch_size=config.batch_size, shuffle=True, drop_last=True)"
   ]
  },
  {
   "cell_type": "code",
   "execution_count": null,
   "id": "4c9a3b10",
   "metadata": {},
   "outputs": [],
   "source": [
    "loss_msg = \"Loss: {0}\"\n",
    "msg = J.HTML(loss_msg.format(0))\n",
    "display(msg)\n",
    "img = J.image(next(iter(loader))[0][0])\n",
    "\n",
    "#config.epochs = 1000\n",
    "for e in tqdm(range(config.epochs)):\n",
    "    for o1, o2 in loader:\n",
    "        optim.zero_grad()\n",
    "        z1, z2 = model(o1), model(o2)\n",
    "        loss = criterion(z1, z2)\n",
    "        loss.backward()\n",
    "        optim.step()\n",
    "        \n",
    "    msg.value = loss_msg.format(loss.item())\n",
    "    #img.update(torch.sigmoid(y[0]))\n"
   ]
  },
  {
   "cell_type": "code",
   "execution_count": null,
   "id": "e9cd2ecc",
   "metadata": {},
   "outputs": [],
   "source": [
    "torch.save(model.state_dict(), \"./S3N.pt\")"
   ]
  },
  {
   "cell_type": "code",
   "execution_count": null,
   "id": "5df73add",
   "metadata": {},
   "outputs": [],
   "source": [
    "\n",
    "with torch.no_grad():\n",
    "    loader = DataLoader(dataset, batch_size=1024, shuffle=False, drop_last=True)\n",
    "    batch_obs = next(iter(loader))[0]\n",
    "    imgs = torch.cat([batch_obs, torch.sigmoid(model(batch_obs))], dim=3).cpu().numpy()\n",
    "    J.images(imgs, scale=3)\n",
    "    \n",
    "    \n",
    "        "
   ]
  },
  {
   "cell_type": "code",
   "execution_count": null,
   "id": "aa4effcd",
   "metadata": {},
   "outputs": [],
   "source": [
    "torch.save(model.state_dict(), \"./AE.pt\")"
   ]
  },
  {
   "cell_type": "code",
   "execution_count": null,
   "id": "f2ab27ed",
   "metadata": {},
   "outputs": [],
   "source": []
  },
  {
   "cell_type": "code",
   "execution_count": null,
   "id": "f33b233f",
   "metadata": {},
   "outputs": [],
   "source": [
    "test_data = [(torch.from_numpy(ep[0]).to(config.device), torch.from_numpy(ep[1])) for ep in utils.load_test(keys=[\"observation\", \"bugmask\"])]\n"
   ]
  },
  {
   "cell_type": "code",
   "execution_count": null,
   "id": "3e05e2fa",
   "metadata": {
    "scrolled": false
   },
   "outputs": [],
   "source": [
    "model = Encoder(config.state_shape)\n",
    "model.load_state_dict(torch.load(\"./S3N.pt\"))\n",
    "criterion = nn.BCEWithLogitsLoss(reduction='none')\n",
    "with torch.no_grad():\n",
    "    n = 1024\n",
    "    model = model.cpu()\n",
    "    for obs, mask in test_data:\n",
    "        obs, mask = obs[:n], mask[:n]\n",
    "        obs = obs.cpu()\n",
    "        pred = model(obs).cpu()\n",
    "        score = criterion(pred, obs)\n",
    "        \n",
    "        score = score.reshape(score.shape[0],-1).sum(-1).cpu().numpy()\n",
    "        score = np.interp(score, (score.min(), score.max()), (0, +1))\n",
    "        \n",
    "        label = mask.reshape(mask.shape[0],-1).sum(-1).cpu().numpy()\n",
    "        label = np.interp(label, (label.min(), label.max()), (0, +1))\n",
    "        \n",
    "        \n",
    "        J.images(torch.cat([torch.sigmoid(pred), obs.cpu(), mask], dim=3))\n",
    "        fig = plt.figure(figsize=(10,5))\n",
    "        plt.plot(np.arange(score.shape[0]), score, label=\"score\")\n",
    "        plt.plot(np.arange(score.shape[0]), label, label=\"label\")\n",
    "        plt.legend()"
   ]
  },
  {
   "cell_type": "code",
   "execution_count": null,
   "id": "b9947fca",
   "metadata": {},
   "outputs": [],
   "source": [
    "with torch.no_grad():\n",
    "    for data in test_data:\n",
    "        \n",
    "    batch_obs = next(iter(loader))[0]\n",
    "    imgs = torch.cat([batch_obs, torch.sigmoid(model(batch_obs))], dim=3).cpu().numpy()\n",
    "    J.images(imgs, scale=3)"
   ]
  },
  {
   "cell_type": "code",
   "execution_count": null,
   "id": "06e90735",
   "metadata": {},
   "outputs": [],
   "source": []
  }
 ],
 "metadata": {
  "kernelspec": {
   "display_name": "PhD",
   "language": "python",
   "name": "phd"
  },
  "language_info": {
   "codemirror_mode": {
    "name": "ipython",
    "version": 3
   },
   "file_extension": ".py",
   "mimetype": "text/x-python",
   "name": "python",
   "nbconvert_exporter": "python",
   "pygments_lexer": "ipython3",
   "version": "3.8.2"
  }
 },
 "nbformat": 4,
 "nbformat_minor": 5
}
